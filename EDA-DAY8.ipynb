{
 "cells": [
  {
   "cell_type": "markdown",
   "id": "d0a36e57-93c5-40f0-ac79-d6002a36bef9",
   "metadata": {},
   "source": [
    "# Importing Neccessary Library"
   ]
  },
  {
   "cell_type": "code",
   "execution_count": 1,
   "id": "ca561c7b-b1f7-4096-b384-dc1d8e35d62b",
   "metadata": {},
   "outputs": [],
   "source": [
    "import numpy as np\n",
    "import pandas as pd\n",
    "import matplotlib.pyplot as plt\n",
    "import seaborn as sns "
   ]
  },
  {
   "cell_type": "markdown",
   "id": "176d9666-1941-4415-b134-d4562def675d",
   "metadata": {},
   "source": [
    "# Importing Csv File"
   ]
  },
  {
   "cell_type": "code",
   "execution_count": 2,
   "id": "9cfcbd4a-100e-4679-a6be-329e3e11b552",
   "metadata": {},
   "outputs": [],
   "source": [
    "df=pd.read_csv(r'C:\\Users\\Dell\\Desktop\\75 Day\\EDA-DAY8\\artists.csv', encoding='unicode_escape')"
   ]
  },
  {
   "cell_type": "markdown",
   "id": "12d8669e-f323-46c3-9cd1-e49b5e97e1c2",
   "metadata": {},
   "source": [
    "# Data Exploration"
   ]
  },
  {
   "cell_type": "code",
   "execution_count": 3,
   "id": "a829a5df-2079-47da-8abc-27981c3ca384",
   "metadata": {},
   "outputs": [
    {
     "data": {
      "text/html": [
       "<div>\n",
       "<style scoped>\n",
       "    .dataframe tbody tr th:only-of-type {\n",
       "        vertical-align: middle;\n",
       "    }\n",
       "\n",
       "    .dataframe tbody tr th {\n",
       "        vertical-align: top;\n",
       "    }\n",
       "\n",
       "    .dataframe thead th {\n",
       "        text-align: right;\n",
       "    }\n",
       "</style>\n",
       "<table border=\"1\" class=\"dataframe\">\n",
       "  <thead>\n",
       "    <tr style=\"text-align: right;\">\n",
       "      <th></th>\n",
       "      <th>Artist</th>\n",
       "      <th>Streams</th>\n",
       "      <th>Daily</th>\n",
       "      <th>As lead</th>\n",
       "      <th>Solo</th>\n",
       "      <th>As feature</th>\n",
       "    </tr>\n",
       "  </thead>\n",
       "  <tbody>\n",
       "    <tr>\n",
       "      <th>0</th>\n",
       "      <td>Drake</td>\n",
       "      <td>85,041.3</td>\n",
       "      <td>50.775</td>\n",
       "      <td>57,252.6</td>\n",
       "      <td>32,681.6</td>\n",
       "      <td>27,788.7</td>\n",
       "    </tr>\n",
       "    <tr>\n",
       "      <th>1</th>\n",
       "      <td>Bad Bunny</td>\n",
       "      <td>67,533.0</td>\n",
       "      <td>44.820</td>\n",
       "      <td>40,969.6</td>\n",
       "      <td>23,073.0</td>\n",
       "      <td>26,563.4</td>\n",
       "    </tr>\n",
       "    <tr>\n",
       "      <th>2</th>\n",
       "      <td>Taylor Swift</td>\n",
       "      <td>57,859.0</td>\n",
       "      <td>85.793</td>\n",
       "      <td>55,566.7</td>\n",
       "      <td>50,425.7</td>\n",
       "      <td>2,292.4</td>\n",
       "    </tr>\n",
       "    <tr>\n",
       "      <th>3</th>\n",
       "      <td>The Weeknd</td>\n",
       "      <td>53,665.2</td>\n",
       "      <td>44.437</td>\n",
       "      <td>42,673.3</td>\n",
       "      <td>31,164.2</td>\n",
       "      <td>10,991.9</td>\n",
       "    </tr>\n",
       "    <tr>\n",
       "      <th>4</th>\n",
       "      <td>Ed Sheeran</td>\n",
       "      <td>47,907.7</td>\n",
       "      <td>17.506</td>\n",
       "      <td>42,767.9</td>\n",
       "      <td>33,917.0</td>\n",
       "      <td>5,139.8</td>\n",
       "    </tr>\n",
       "  </tbody>\n",
       "</table>\n",
       "</div>"
      ],
      "text/plain": [
       "         Artist   Streams   Daily   As lead      Solo As feature\n",
       "0         Drake  85,041.3  50.775  57,252.6  32,681.6   27,788.7\n",
       "1     Bad Bunny  67,533.0  44.820  40,969.6  23,073.0   26,563.4\n",
       "2  Taylor Swift  57,859.0  85.793  55,566.7  50,425.7    2,292.4\n",
       "3    The Weeknd  53,665.2  44.437  42,673.3  31,164.2   10,991.9\n",
       "4    Ed Sheeran  47,907.7  17.506  42,767.9  33,917.0    5,139.8"
      ]
     },
     "execution_count": 3,
     "metadata": {},
     "output_type": "execute_result"
    }
   ],
   "source": [
    "df.head()"
   ]
  },
  {
   "cell_type": "code",
   "execution_count": 4,
   "id": "b388560a-1f43-4532-a763-0f349e9acc09",
   "metadata": {},
   "outputs": [
    {
     "data": {
      "text/html": [
       "<div>\n",
       "<style scoped>\n",
       "    .dataframe tbody tr th:only-of-type {\n",
       "        vertical-align: middle;\n",
       "    }\n",
       "\n",
       "    .dataframe tbody tr th {\n",
       "        vertical-align: top;\n",
       "    }\n",
       "\n",
       "    .dataframe thead th {\n",
       "        text-align: right;\n",
       "    }\n",
       "</style>\n",
       "<table border=\"1\" class=\"dataframe\">\n",
       "  <thead>\n",
       "    <tr style=\"text-align: right;\">\n",
       "      <th></th>\n",
       "      <th>Daily</th>\n",
       "    </tr>\n",
       "  </thead>\n",
       "  <tbody>\n",
       "    <tr>\n",
       "      <th>count</th>\n",
       "      <td>2994.000000</td>\n",
       "    </tr>\n",
       "    <tr>\n",
       "      <th>mean</th>\n",
       "      <td>1.854522</td>\n",
       "    </tr>\n",
       "    <tr>\n",
       "      <th>std</th>\n",
       "      <td>3.758283</td>\n",
       "    </tr>\n",
       "    <tr>\n",
       "      <th>min</th>\n",
       "      <td>0.002000</td>\n",
       "    </tr>\n",
       "    <tr>\n",
       "      <th>25%</th>\n",
       "      <td>0.480250</td>\n",
       "    </tr>\n",
       "    <tr>\n",
       "      <th>50%</th>\n",
       "      <td>0.871000</td>\n",
       "    </tr>\n",
       "    <tr>\n",
       "      <th>75%</th>\n",
       "      <td>1.774250</td>\n",
       "    </tr>\n",
       "    <tr>\n",
       "      <th>max</th>\n",
       "      <td>85.793000</td>\n",
       "    </tr>\n",
       "  </tbody>\n",
       "</table>\n",
       "</div>"
      ],
      "text/plain": [
       "             Daily\n",
       "count  2994.000000\n",
       "mean      1.854522\n",
       "std       3.758283\n",
       "min       0.002000\n",
       "25%       0.480250\n",
       "50%       0.871000\n",
       "75%       1.774250\n",
       "max      85.793000"
      ]
     },
     "execution_count": 4,
     "metadata": {},
     "output_type": "execute_result"
    }
   ],
   "source": [
    "df.describe()"
   ]
  },
  {
   "cell_type": "code",
   "execution_count": 5,
   "id": "608b2372-cc0b-42ff-a68b-c1340dae17c5",
   "metadata": {},
   "outputs": [
    {
     "data": {
      "text/plain": [
       "(3000, 6)"
      ]
     },
     "execution_count": 5,
     "metadata": {},
     "output_type": "execute_result"
    }
   ],
   "source": [
    "df.shape"
   ]
  },
  {
   "cell_type": "code",
   "execution_count": 6,
   "id": "b008f72b-85e8-4489-9e90-e65df7504024",
   "metadata": {},
   "outputs": [
    {
     "name": "stdout",
     "output_type": "stream",
     "text": [
      "<class 'pandas.core.frame.DataFrame'>\n",
      "RangeIndex: 3000 entries, 0 to 2999\n",
      "Data columns (total 6 columns):\n",
      " #   Column      Non-Null Count  Dtype  \n",
      "---  ------      --------------  -----  \n",
      " 0   Artist      3000 non-null   object \n",
      " 1   Streams     3000 non-null   object \n",
      " 2   Daily       2994 non-null   float64\n",
      " 3   As lead     2984 non-null   object \n",
      " 4   Solo        2931 non-null   object \n",
      " 5   As feature  2662 non-null   object \n",
      "dtypes: float64(1), object(5)\n",
      "memory usage: 140.8+ KB\n"
     ]
    }
   ],
   "source": [
    "df.info()"
   ]
  },
  {
   "cell_type": "markdown",
   "id": "510cc99b-d4b7-4205-ac8b-2c7be7dfdfbe",
   "metadata": {},
   "source": [
    "# Unique columns data"
   ]
  },
  {
   "cell_type": "code",
   "execution_count": 7,
   "id": "29d59197-cd38-486e-b80a-4f5408e01384",
   "metadata": {},
   "outputs": [
    {
     "data": {
      "text/plain": [
       "array(['Drake', 'Bad Bunny', 'Taylor Swift', ..., 'Vedo',\n",
       "       'Kings of Convenience', 'Ayra Starr'], dtype=object)"
      ]
     },
     "execution_count": 7,
     "metadata": {},
     "output_type": "execute_result"
    }
   ],
   "source": [
    "df['Artist'].unique()"
   ]
  },
  {
   "cell_type": "code",
   "execution_count": 8,
   "id": "33506520-9e45-4266-8aa5-c3e43e1ef702",
   "metadata": {},
   "outputs": [
    {
     "data": {
      "text/plain": [
       "array(['85,041.3', '67,533.0', '57,859.0', ..., '729.6', '729.4', '728.6'],\n",
       "      dtype=object)"
      ]
     },
     "execution_count": 8,
     "metadata": {},
     "output_type": "execute_result"
    }
   ],
   "source": [
    "df['Streams'].unique()"
   ]
  },
  {
   "cell_type": "code",
   "execution_count": 9,
   "id": "13fb8704-ef9a-42c3-9987-86a0395088ca",
   "metadata": {},
   "outputs": [
    {
     "data": {
      "text/plain": [
       "array(['27,788.7', '26,563.4', '2,292.4', ..., '187.6', '83.6', '310.1'],\n",
       "      dtype=object)"
      ]
     },
     "execution_count": 9,
     "metadata": {},
     "output_type": "execute_result"
    }
   ],
   "source": [
    "df['As feature'].unique()"
   ]
  },
  {
   "cell_type": "markdown",
   "id": "b848bfb5-69e3-44fa-a530-c6ac5aa41bed",
   "metadata": {},
   "source": [
    "# Check Null Values "
   ]
  },
  {
   "cell_type": "code",
   "execution_count": 10,
   "id": "afe369de-72b0-4f74-b4f0-990894ff393d",
   "metadata": {},
   "outputs": [
    {
     "data": {
      "text/plain": [
       "Artist          0\n",
       "Streams         0\n",
       "Daily           6\n",
       "As lead        16\n",
       "Solo           69\n",
       "As feature    338\n",
       "dtype: int64"
      ]
     },
     "execution_count": 10,
     "metadata": {},
     "output_type": "execute_result"
    }
   ],
   "source": [
    "df.isnull().sum()"
   ]
  },
  {
   "cell_type": "code",
   "execution_count": 11,
   "id": "598a6ccd-ec6f-45ae-8bba-fe249a081d26",
   "metadata": {},
   "outputs": [
    {
     "data": {
      "text/html": [
       "<div>\n",
       "<style scoped>\n",
       "    .dataframe tbody tr th:only-of-type {\n",
       "        vertical-align: middle;\n",
       "    }\n",
       "\n",
       "    .dataframe tbody tr th {\n",
       "        vertical-align: top;\n",
       "    }\n",
       "\n",
       "    .dataframe thead th {\n",
       "        text-align: right;\n",
       "    }\n",
       "</style>\n",
       "<table border=\"1\" class=\"dataframe\">\n",
       "  <thead>\n",
       "    <tr style=\"text-align: right;\">\n",
       "      <th></th>\n",
       "      <th>Artist</th>\n",
       "      <th>Streams</th>\n",
       "      <th>Daily</th>\n",
       "      <th>As lead</th>\n",
       "      <th>Solo</th>\n",
       "      <th>As feature</th>\n",
       "    </tr>\n",
       "  </thead>\n",
       "  <tbody>\n",
       "    <tr>\n",
       "      <th>0</th>\n",
       "      <td>Drake</td>\n",
       "      <td>85,041.3</td>\n",
       "      <td>50.775</td>\n",
       "      <td>57,252.6</td>\n",
       "      <td>32,681.6</td>\n",
       "      <td>27,788.7</td>\n",
       "    </tr>\n",
       "    <tr>\n",
       "      <th>1</th>\n",
       "      <td>Bad Bunny</td>\n",
       "      <td>67,533.0</td>\n",
       "      <td>44.820</td>\n",
       "      <td>40,969.6</td>\n",
       "      <td>23,073.0</td>\n",
       "      <td>26,563.4</td>\n",
       "    </tr>\n",
       "    <tr>\n",
       "      <th>2</th>\n",
       "      <td>Taylor Swift</td>\n",
       "      <td>57,859.0</td>\n",
       "      <td>85.793</td>\n",
       "      <td>55,566.7</td>\n",
       "      <td>50,425.7</td>\n",
       "      <td>2,292.4</td>\n",
       "    </tr>\n",
       "    <tr>\n",
       "      <th>3</th>\n",
       "      <td>The Weeknd</td>\n",
       "      <td>53,665.2</td>\n",
       "      <td>44.437</td>\n",
       "      <td>42,673.3</td>\n",
       "      <td>31,164.2</td>\n",
       "      <td>10,991.9</td>\n",
       "    </tr>\n",
       "    <tr>\n",
       "      <th>4</th>\n",
       "      <td>Ed Sheeran</td>\n",
       "      <td>47,907.7</td>\n",
       "      <td>17.506</td>\n",
       "      <td>42,767.9</td>\n",
       "      <td>33,917.0</td>\n",
       "      <td>5,139.8</td>\n",
       "    </tr>\n",
       "  </tbody>\n",
       "</table>\n",
       "</div>"
      ],
      "text/plain": [
       "         Artist   Streams   Daily   As lead      Solo As feature\n",
       "0         Drake  85,041.3  50.775  57,252.6  32,681.6   27,788.7\n",
       "1     Bad Bunny  67,533.0  44.820  40,969.6  23,073.0   26,563.4\n",
       "2  Taylor Swift  57,859.0  85.793  55,566.7  50,425.7    2,292.4\n",
       "3    The Weeknd  53,665.2  44.437  42,673.3  31,164.2   10,991.9\n",
       "4    Ed Sheeran  47,907.7  17.506  42,767.9  33,917.0    5,139.8"
      ]
     },
     "execution_count": 11,
     "metadata": {},
     "output_type": "execute_result"
    }
   ],
   "source": [
    "df.head()"
   ]
  },
  {
   "cell_type": "markdown",
   "id": "6cc2aa51-becc-4148-b17e-a5f8d43504e6",
   "metadata": {},
   "source": [
    "# Change Object to Sufficient Data types"
   ]
  },
  {
   "cell_type": "code",
   "execution_count": 12,
   "id": "e756fe7c-103b-4fb3-b62f-5a29e803f993",
   "metadata": {},
   "outputs": [],
   "source": [
    "df['Artist']=df['Artist'].astype('category')"
   ]
  },
  {
   "cell_type": "code",
   "execution_count": 13,
   "id": "bfbc051d-3eb4-4ceb-8bb0-058c36913d91",
   "metadata": {},
   "outputs": [],
   "source": [
    "df[['Streams', 'As lead', 'Solo', 'As feature']] = df[['Streams', 'As lead', 'Solo', 'As feature']].astype(str).applymap(lambda x: float(x.replace(',', '')))"
   ]
  },
  {
   "cell_type": "code",
   "execution_count": 14,
   "id": "a06ace01-6f32-4943-a3f4-75ab5321ad0f",
   "metadata": {},
   "outputs": [
    {
     "name": "stdout",
     "output_type": "stream",
     "text": [
      "<class 'pandas.core.frame.DataFrame'>\n",
      "RangeIndex: 3000 entries, 0 to 2999\n",
      "Data columns (total 6 columns):\n",
      " #   Column      Non-Null Count  Dtype   \n",
      "---  ------      --------------  -----   \n",
      " 0   Artist      3000 non-null   category\n",
      " 1   Streams     3000 non-null   float64 \n",
      " 2   Daily       2994 non-null   float64 \n",
      " 3   As lead     2984 non-null   float64 \n",
      " 4   Solo        2931 non-null   float64 \n",
      " 5   As feature  2662 non-null   float64 \n",
      "dtypes: category(1), float64(5)\n",
      "memory usage: 211.1 KB\n"
     ]
    }
   ],
   "source": [
    "df.info()"
   ]
  },
  {
   "cell_type": "code",
   "execution_count": 15,
   "id": "3ebc8132-c1b3-44c4-8e6f-d98c6f17528d",
   "metadata": {},
   "outputs": [
    {
     "data": {
      "text/plain": [
       "Index(['Artist', 'Streams', 'Daily', 'As lead', 'Solo', 'As feature'], dtype='object')"
      ]
     },
     "execution_count": 15,
     "metadata": {},
     "output_type": "execute_result"
    }
   ],
   "source": [
    "df.columns"
   ]
  },
  {
   "cell_type": "code",
   "execution_count": 16,
   "id": "6247d47e-bf1f-4da2-9a16-646ba94c9c51",
   "metadata": {},
   "outputs": [],
   "source": [
    "columns_to_convert = ['Streams', 'As lead', 'Solo', 'As feature']\n",
    "\n",
    "for column in columns_to_convert:\n",
    "    df[column] = pd.to_numeric(df[column], errors='coerce')\n",
    "\n",
    "df[['Streams', 'As lead', 'Solo', 'As feature']] = df[['Streams', 'As lead', 'Solo', 'As feature']].fillna(df.mean(numeric_only=True))\n"
   ]
  },
  {
   "cell_type": "markdown",
   "id": "e8ea6b06-5751-473d-ac46-ffa824c36c3a",
   "metadata": {},
   "source": [
    "# Data Visualization"
   ]
  },
  {
   "cell_type": "markdown",
   "id": "e7ffa1d8-bbac-498e-bcda-47989a298270",
   "metadata": {},
   "source": [
    "## Soon.."
   ]
  }
 ],
 "metadata": {
  "kernelspec": {
   "display_name": "Python 3 (ipykernel)",
   "language": "python",
   "name": "python3"
  },
  "language_info": {
   "codemirror_mode": {
    "name": "ipython",
    "version": 3
   },
   "file_extension": ".py",
   "mimetype": "text/x-python",
   "name": "python",
   "nbconvert_exporter": "python",
   "pygments_lexer": "ipython3",
   "version": "3.11.4"
  }
 },
 "nbformat": 4,
 "nbformat_minor": 5
}
